


import pandas as pd


df = pd.read_csv("data_small/TG_STAID000001.txt", skiprows=20, parse_dates=["    DATE"])


df





df[10:20]





df.columns


df[["    DATE", "   TG"]]





df.loc[df['   TG'] != -9999]


df.loc[df['   TG'] != -9999]['   TG'].max()/10


df.loc[df['   TG'] != -9999]['   TG'].min()/10


df.loc[df['   TG'] != -9999]['   TG'].hist()





df


df.loc[df["    DATE"] == "1860-01-05"]['   TG'].squeeze() / 10


df.loc[df['   TG'] == df['   TG'].max()]["    DATE"].squeeze()


df.loc[3, '   TG']





import numpy as np
df["TG0"] = df['   TG'].mask(df['   TG']==-9999, np.nan)


df["TG"] = df['   TG'] / 10


df


df["Fahrenheit"] = df["TG0"] / 10 * (9/5) + 32


df["Fahrenheit"].hist()





df[10:100].plot(x="    DATE", y="Fahrenheit", figsize=(10, 3))


df["Fahrenheit"] = df["TG"] * (9/5) + 32
