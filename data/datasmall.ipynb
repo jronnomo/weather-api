{
 "cells": [
  {
   "cell_type": "markdown",
   "id": "46af913e-3546-4f9d-9ff5-33f4be1826d0",
   "metadata": {},
   "source": [
    "# Write the dataframe"
   ]
  },
  {
   "cell_type": "code",
   "execution_count": 3,
   "id": "1736c16c-fb68-42dd-8b38-6edafe522b3f",
   "metadata": {},
   "outputs": [],
   "source": [
    "import pandas as pd"
   ]
  },
  {
   "cell_type": "code",
   "execution_count": 7,
   "id": "442cf842-ffdf-4ce4-b6e7-8113f5d10fd5",
   "metadata": {},
   "outputs": [],
   "source": [
    "df = pd.read_csv(\"data_small/TG_STAID000001.txt\", skiprows=20, parse_dates=[\"    DATE\"])"
   ]
  },
  {
   "cell_type": "code",
   "execution_count": 9,
   "id": "623486d0-ee9e-4d2e-94f2-8a3e516da4d7",
   "metadata": {
    "scrolled": true
   },
   "outputs": [
    {
     "data": {
      "text/html": [
       "<div>\n",
       "<style scoped>\n",
       "    .dataframe tbody tr th:only-of-type {\n",
       "        vertical-align: middle;\n",
       "    }\n",
       "\n",
       "    .dataframe tbody tr th {\n",
       "        vertical-align: top;\n",
       "    }\n",
       "\n",
       "    .dataframe thead th {\n",
       "        text-align: right;\n",
       "    }\n",
       "</style>\n",
       "<table border=\"1\" class=\"dataframe\">\n",
       "  <thead>\n",
       "    <tr style=\"text-align: right;\">\n",
       "      <th></th>\n",
       "      <th>STAID</th>\n",
       "      <th>SOUID</th>\n",
       "      <th>DATE</th>\n",
       "      <th>TG</th>\n",
       "      <th>Q_TG</th>\n",
       "    </tr>\n",
       "  </thead>\n",
       "  <tbody>\n",
       "    <tr>\n",
       "      <th>0</th>\n",
       "      <td>1</td>\n",
       "      <td>35381</td>\n",
       "      <td>1860-01-01</td>\n",
       "      <td>21</td>\n",
       "      <td>0</td>\n",
       "    </tr>\n",
       "    <tr>\n",
       "      <th>1</th>\n",
       "      <td>1</td>\n",
       "      <td>35381</td>\n",
       "      <td>1860-01-02</td>\n",
       "      <td>46</td>\n",
       "      <td>0</td>\n",
       "    </tr>\n",
       "    <tr>\n",
       "      <th>2</th>\n",
       "      <td>1</td>\n",
       "      <td>35381</td>\n",
       "      <td>1860-01-03</td>\n",
       "      <td>31</td>\n",
       "      <td>0</td>\n",
       "    </tr>\n",
       "    <tr>\n",
       "      <th>3</th>\n",
       "      <td>1</td>\n",
       "      <td>35381</td>\n",
       "      <td>1860-01-04</td>\n",
       "      <td>37</td>\n",
       "      <td>0</td>\n",
       "    </tr>\n",
       "    <tr>\n",
       "      <th>4</th>\n",
       "      <td>1</td>\n",
       "      <td>35381</td>\n",
       "      <td>1860-01-05</td>\n",
       "      <td>31</td>\n",
       "      <td>0</td>\n",
       "    </tr>\n",
       "    <tr>\n",
       "      <th>...</th>\n",
       "      <td>...</td>\n",
       "      <td>...</td>\n",
       "      <td>...</td>\n",
       "      <td>...</td>\n",
       "      <td>...</td>\n",
       "    </tr>\n",
       "    <tr>\n",
       "      <th>59316</th>\n",
       "      <td>1</td>\n",
       "      <td>35381</td>\n",
       "      <td>2022-05-27</td>\n",
       "      <td>-9999</td>\n",
       "      <td>9</td>\n",
       "    </tr>\n",
       "    <tr>\n",
       "      <th>59317</th>\n",
       "      <td>1</td>\n",
       "      <td>35381</td>\n",
       "      <td>2022-05-28</td>\n",
       "      <td>-9999</td>\n",
       "      <td>9</td>\n",
       "    </tr>\n",
       "    <tr>\n",
       "      <th>59318</th>\n",
       "      <td>1</td>\n",
       "      <td>35381</td>\n",
       "      <td>2022-05-29</td>\n",
       "      <td>-9999</td>\n",
       "      <td>9</td>\n",
       "    </tr>\n",
       "    <tr>\n",
       "      <th>59319</th>\n",
       "      <td>1</td>\n",
       "      <td>35381</td>\n",
       "      <td>2022-05-30</td>\n",
       "      <td>-9999</td>\n",
       "      <td>9</td>\n",
       "    </tr>\n",
       "    <tr>\n",
       "      <th>59320</th>\n",
       "      <td>1</td>\n",
       "      <td>35381</td>\n",
       "      <td>2022-05-31</td>\n",
       "      <td>-9999</td>\n",
       "      <td>9</td>\n",
       "    </tr>\n",
       "  </tbody>\n",
       "</table>\n",
       "<p>59321 rows × 5 columns</p>\n",
       "</div>"
      ],
      "text/plain": [
       "       STAID   SOUID       DATE     TG   Q_TG\n",
       "0          1   35381 1860-01-01     21      0\n",
       "1          1   35381 1860-01-02     46      0\n",
       "2          1   35381 1860-01-03     31      0\n",
       "3          1   35381 1860-01-04     37      0\n",
       "4          1   35381 1860-01-05     31      0\n",
       "...      ...     ...        ...    ...    ...\n",
       "59316      1   35381 2022-05-27  -9999      9\n",
       "59317      1   35381 2022-05-28  -9999      9\n",
       "59318      1   35381 2022-05-29  -9999      9\n",
       "59319      1   35381 2022-05-30  -9999      9\n",
       "59320      1   35381 2022-05-31  -9999      9\n",
       "\n",
       "[59321 rows x 5 columns]"
      ]
     },
     "execution_count": 9,
     "metadata": {},
     "output_type": "execute_result"
    }
   ],
   "source": [
    "df"
   ]
  },
  {
   "cell_type": "markdown",
   "id": "36705722-60ab-4068-996f-f95365fae100",
   "metadata": {},
   "source": [
    "# Show certain rows"
   ]
  },
  {
   "cell_type": "code",
   "execution_count": 10,
   "id": "191de6f1-572c-4abc-b0bb-c509ca26e62b",
   "metadata": {},
   "outputs": [
    {
     "data": {
      "text/html": [
       "<div>\n",
       "<style scoped>\n",
       "    .dataframe tbody tr th:only-of-type {\n",
       "        vertical-align: middle;\n",
       "    }\n",
       "\n",
       "    .dataframe tbody tr th {\n",
       "        vertical-align: top;\n",
       "    }\n",
       "\n",
       "    .dataframe thead th {\n",
       "        text-align: right;\n",
       "    }\n",
       "</style>\n",
       "<table border=\"1\" class=\"dataframe\">\n",
       "  <thead>\n",
       "    <tr style=\"text-align: right;\">\n",
       "      <th></th>\n",
       "      <th>STAID</th>\n",
       "      <th>SOUID</th>\n",
       "      <th>DATE</th>\n",
       "      <th>TG</th>\n",
       "      <th>Q_TG</th>\n",
       "    </tr>\n",
       "  </thead>\n",
       "  <tbody>\n",
       "    <tr>\n",
       "      <th>10</th>\n",
       "      <td>1</td>\n",
       "      <td>35381</td>\n",
       "      <td>1860-01-11</td>\n",
       "      <td>-5</td>\n",
       "      <td>0</td>\n",
       "    </tr>\n",
       "    <tr>\n",
       "      <th>11</th>\n",
       "      <td>1</td>\n",
       "      <td>35381</td>\n",
       "      <td>1860-01-12</td>\n",
       "      <td>-18</td>\n",
       "      <td>0</td>\n",
       "    </tr>\n",
       "    <tr>\n",
       "      <th>12</th>\n",
       "      <td>1</td>\n",
       "      <td>35381</td>\n",
       "      <td>1860-01-13</td>\n",
       "      <td>-27</td>\n",
       "      <td>0</td>\n",
       "    </tr>\n",
       "    <tr>\n",
       "      <th>13</th>\n",
       "      <td>1</td>\n",
       "      <td>35381</td>\n",
       "      <td>1860-01-14</td>\n",
       "      <td>-26</td>\n",
       "      <td>0</td>\n",
       "    </tr>\n",
       "    <tr>\n",
       "      <th>14</th>\n",
       "      <td>1</td>\n",
       "      <td>35381</td>\n",
       "      <td>1860-01-15</td>\n",
       "      <td>-37</td>\n",
       "      <td>0</td>\n",
       "    </tr>\n",
       "    <tr>\n",
       "      <th>15</th>\n",
       "      <td>1</td>\n",
       "      <td>35381</td>\n",
       "      <td>1860-01-16</td>\n",
       "      <td>-9</td>\n",
       "      <td>0</td>\n",
       "    </tr>\n",
       "    <tr>\n",
       "      <th>16</th>\n",
       "      <td>1</td>\n",
       "      <td>35381</td>\n",
       "      <td>1860-01-17</td>\n",
       "      <td>7</td>\n",
       "      <td>0</td>\n",
       "    </tr>\n",
       "    <tr>\n",
       "      <th>17</th>\n",
       "      <td>1</td>\n",
       "      <td>35381</td>\n",
       "      <td>1860-01-18</td>\n",
       "      <td>-6</td>\n",
       "      <td>0</td>\n",
       "    </tr>\n",
       "    <tr>\n",
       "      <th>18</th>\n",
       "      <td>1</td>\n",
       "      <td>35381</td>\n",
       "      <td>1860-01-19</td>\n",
       "      <td>-16</td>\n",
       "      <td>0</td>\n",
       "    </tr>\n",
       "    <tr>\n",
       "      <th>19</th>\n",
       "      <td>1</td>\n",
       "      <td>35381</td>\n",
       "      <td>1860-01-20</td>\n",
       "      <td>-19</td>\n",
       "      <td>0</td>\n",
       "    </tr>\n",
       "  </tbody>\n",
       "</table>\n",
       "</div>"
      ],
      "text/plain": [
       "    STAID   SOUID       DATE     TG   Q_TG\n",
       "10      1   35381 1860-01-11     -5      0\n",
       "11      1   35381 1860-01-12    -18      0\n",
       "12      1   35381 1860-01-13    -27      0\n",
       "13      1   35381 1860-01-14    -26      0\n",
       "14      1   35381 1860-01-15    -37      0\n",
       "15      1   35381 1860-01-16     -9      0\n",
       "16      1   35381 1860-01-17      7      0\n",
       "17      1   35381 1860-01-18     -6      0\n",
       "18      1   35381 1860-01-19    -16      0\n",
       "19      1   35381 1860-01-20    -19      0"
      ]
     },
     "execution_count": 10,
     "metadata": {},
     "output_type": "execute_result"
    }
   ],
   "source": [
    "df[10:20]"
   ]
  },
  {
   "cell_type": "markdown",
   "id": "d907b8ef-e8fc-4308-9615-cd287723dc58",
   "metadata": {},
   "source": [
    "# Show certains columns"
   ]
  },
  {
   "cell_type": "code",
   "execution_count": 11,
   "id": "e825e5c3-f7b8-4d85-9461-f4f25bbd2167",
   "metadata": {},
   "outputs": [
    {
     "data": {
      "text/plain": [
       "Index(['STAID', ' SOUID', '    DATE', '   TG', ' Q_TG'], dtype='object')"
      ]
     },
     "execution_count": 11,
     "metadata": {},
     "output_type": "execute_result"
    }
   ],
   "source": [
    "df.columns"
   ]
  },
  {
   "cell_type": "code",
   "execution_count": 14,
   "id": "512f5f13-b5e8-442b-9d63-97f2c69f6cd9",
   "metadata": {},
   "outputs": [
    {
     "data": {
      "text/html": [
       "<div>\n",
       "<style scoped>\n",
       "    .dataframe tbody tr th:only-of-type {\n",
       "        vertical-align: middle;\n",
       "    }\n",
       "\n",
       "    .dataframe tbody tr th {\n",
       "        vertical-align: top;\n",
       "    }\n",
       "\n",
       "    .dataframe thead th {\n",
       "        text-align: right;\n",
       "    }\n",
       "</style>\n",
       "<table border=\"1\" class=\"dataframe\">\n",
       "  <thead>\n",
       "    <tr style=\"text-align: right;\">\n",
       "      <th></th>\n",
       "      <th>DATE</th>\n",
       "      <th>TG</th>\n",
       "    </tr>\n",
       "  </thead>\n",
       "  <tbody>\n",
       "    <tr>\n",
       "      <th>0</th>\n",
       "      <td>1860-01-01</td>\n",
       "      <td>21</td>\n",
       "    </tr>\n",
       "    <tr>\n",
       "      <th>1</th>\n",
       "      <td>1860-01-02</td>\n",
       "      <td>46</td>\n",
       "    </tr>\n",
       "    <tr>\n",
       "      <th>2</th>\n",
       "      <td>1860-01-03</td>\n",
       "      <td>31</td>\n",
       "    </tr>\n",
       "    <tr>\n",
       "      <th>3</th>\n",
       "      <td>1860-01-04</td>\n",
       "      <td>37</td>\n",
       "    </tr>\n",
       "    <tr>\n",
       "      <th>4</th>\n",
       "      <td>1860-01-05</td>\n",
       "      <td>31</td>\n",
       "    </tr>\n",
       "    <tr>\n",
       "      <th>...</th>\n",
       "      <td>...</td>\n",
       "      <td>...</td>\n",
       "    </tr>\n",
       "    <tr>\n",
       "      <th>59316</th>\n",
       "      <td>2022-05-27</td>\n",
       "      <td>-9999</td>\n",
       "    </tr>\n",
       "    <tr>\n",
       "      <th>59317</th>\n",
       "      <td>2022-05-28</td>\n",
       "      <td>-9999</td>\n",
       "    </tr>\n",
       "    <tr>\n",
       "      <th>59318</th>\n",
       "      <td>2022-05-29</td>\n",
       "      <td>-9999</td>\n",
       "    </tr>\n",
       "    <tr>\n",
       "      <th>59319</th>\n",
       "      <td>2022-05-30</td>\n",
       "      <td>-9999</td>\n",
       "    </tr>\n",
       "    <tr>\n",
       "      <th>59320</th>\n",
       "      <td>2022-05-31</td>\n",
       "      <td>-9999</td>\n",
       "    </tr>\n",
       "  </tbody>\n",
       "</table>\n",
       "<p>59321 rows × 2 columns</p>\n",
       "</div>"
      ],
      "text/plain": [
       "            DATE     TG\n",
       "0     1860-01-01     21\n",
       "1     1860-01-02     46\n",
       "2     1860-01-03     31\n",
       "3     1860-01-04     37\n",
       "4     1860-01-05     31\n",
       "...          ...    ...\n",
       "59316 2022-05-27  -9999\n",
       "59317 2022-05-28  -9999\n",
       "59318 2022-05-29  -9999\n",
       "59319 2022-05-30  -9999\n",
       "59320 2022-05-31  -9999\n",
       "\n",
       "[59321 rows x 2 columns]"
      ]
     },
     "execution_count": 14,
     "metadata": {},
     "output_type": "execute_result"
    }
   ],
   "source": [
    "df[[\"    DATE\", \"   TG\"]]"
   ]
  },
  {
   "cell_type": "markdown",
   "id": "c2eb6f13-59a3-41e5-abbf-e5b80dba0535",
   "metadata": {},
   "source": [
    "# Simple statistics and filtering"
   ]
  },
  {
   "cell_type": "code",
   "execution_count": 16,
   "id": "3fc005f6-96d9-4374-8511-762d505dc23e",
   "metadata": {},
   "outputs": [
    {
     "data": {
      "text/html": [
       "<div>\n",
       "<style scoped>\n",
       "    .dataframe tbody tr th:only-of-type {\n",
       "        vertical-align: middle;\n",
       "    }\n",
       "\n",
       "    .dataframe tbody tr th {\n",
       "        vertical-align: top;\n",
       "    }\n",
       "\n",
       "    .dataframe thead th {\n",
       "        text-align: right;\n",
       "    }\n",
       "</style>\n",
       "<table border=\"1\" class=\"dataframe\">\n",
       "  <thead>\n",
       "    <tr style=\"text-align: right;\">\n",
       "      <th></th>\n",
       "      <th>STAID</th>\n",
       "      <th>SOUID</th>\n",
       "      <th>DATE</th>\n",
       "      <th>TG</th>\n",
       "      <th>Q_TG</th>\n",
       "    </tr>\n",
       "  </thead>\n",
       "  <tbody>\n",
       "    <tr>\n",
       "      <th>0</th>\n",
       "      <td>1</td>\n",
       "      <td>35381</td>\n",
       "      <td>1860-01-01</td>\n",
       "      <td>21</td>\n",
       "      <td>0</td>\n",
       "    </tr>\n",
       "    <tr>\n",
       "      <th>1</th>\n",
       "      <td>1</td>\n",
       "      <td>35381</td>\n",
       "      <td>1860-01-02</td>\n",
       "      <td>46</td>\n",
       "      <td>0</td>\n",
       "    </tr>\n",
       "    <tr>\n",
       "      <th>2</th>\n",
       "      <td>1</td>\n",
       "      <td>35381</td>\n",
       "      <td>1860-01-03</td>\n",
       "      <td>31</td>\n",
       "      <td>0</td>\n",
       "    </tr>\n",
       "    <tr>\n",
       "      <th>3</th>\n",
       "      <td>1</td>\n",
       "      <td>35381</td>\n",
       "      <td>1860-01-04</td>\n",
       "      <td>37</td>\n",
       "      <td>0</td>\n",
       "    </tr>\n",
       "    <tr>\n",
       "      <th>4</th>\n",
       "      <td>1</td>\n",
       "      <td>35381</td>\n",
       "      <td>1860-01-05</td>\n",
       "      <td>31</td>\n",
       "      <td>0</td>\n",
       "    </tr>\n",
       "    <tr>\n",
       "      <th>...</th>\n",
       "      <td>...</td>\n",
       "      <td>...</td>\n",
       "      <td>...</td>\n",
       "      <td>...</td>\n",
       "      <td>...</td>\n",
       "    </tr>\n",
       "    <tr>\n",
       "      <th>53655</th>\n",
       "      <td>1</td>\n",
       "      <td>35381</td>\n",
       "      <td>2006-11-26</td>\n",
       "      <td>80</td>\n",
       "      <td>0</td>\n",
       "    </tr>\n",
       "    <tr>\n",
       "      <th>53656</th>\n",
       "      <td>1</td>\n",
       "      <td>35381</td>\n",
       "      <td>2006-11-27</td>\n",
       "      <td>70</td>\n",
       "      <td>0</td>\n",
       "    </tr>\n",
       "    <tr>\n",
       "      <th>53657</th>\n",
       "      <td>1</td>\n",
       "      <td>35381</td>\n",
       "      <td>2006-11-28</td>\n",
       "      <td>71</td>\n",
       "      <td>0</td>\n",
       "    </tr>\n",
       "    <tr>\n",
       "      <th>53658</th>\n",
       "      <td>1</td>\n",
       "      <td>35381</td>\n",
       "      <td>2006-11-29</td>\n",
       "      <td>63</td>\n",
       "      <td>0</td>\n",
       "    </tr>\n",
       "    <tr>\n",
       "      <th>53659</th>\n",
       "      <td>1</td>\n",
       "      <td>35381</td>\n",
       "      <td>2006-11-30</td>\n",
       "      <td>84</td>\n",
       "      <td>0</td>\n",
       "    </tr>\n",
       "  </tbody>\n",
       "</table>\n",
       "<p>53103 rows × 5 columns</p>\n",
       "</div>"
      ],
      "text/plain": [
       "       STAID   SOUID       DATE     TG   Q_TG\n",
       "0          1   35381 1860-01-01     21      0\n",
       "1          1   35381 1860-01-02     46      0\n",
       "2          1   35381 1860-01-03     31      0\n",
       "3          1   35381 1860-01-04     37      0\n",
       "4          1   35381 1860-01-05     31      0\n",
       "...      ...     ...        ...    ...    ...\n",
       "53655      1   35381 2006-11-26     80      0\n",
       "53656      1   35381 2006-11-27     70      0\n",
       "53657      1   35381 2006-11-28     71      0\n",
       "53658      1   35381 2006-11-29     63      0\n",
       "53659      1   35381 2006-11-30     84      0\n",
       "\n",
       "[53103 rows x 5 columns]"
      ]
     },
     "execution_count": 16,
     "metadata": {},
     "output_type": "execute_result"
    }
   ],
   "source": [
    "df.loc[df['   TG'] != -9999]"
   ]
  },
  {
   "cell_type": "code",
   "execution_count": 19,
   "id": "a9ea07fe-cb39-474b-8eb8-5beb492cd446",
   "metadata": {},
   "outputs": [
    {
     "data": {
      "text/plain": [
       "26.2"
      ]
     },
     "execution_count": 19,
     "metadata": {},
     "output_type": "execute_result"
    }
   ],
   "source": [
    "df.loc[df['   TG'] != -9999]['   TG'].max()/10"
   ]
  },
  {
   "cell_type": "code",
   "execution_count": 21,
   "id": "b55632f6-b61d-431c-9cc1-43a0cc803fcd",
   "metadata": {},
   "outputs": [
    {
     "data": {
      "text/plain": [
       "-28.8"
      ]
     },
     "execution_count": 21,
     "metadata": {},
     "output_type": "execute_result"
    }
   ],
   "source": [
    "df.loc[df['   TG'] != -9999]['   TG'].min()/10"
   ]
  },
  {
   "cell_type": "code",
   "execution_count": 23,
   "id": "298bb27c-4dbe-443c-a5a8-2a8cee21f15d",
   "metadata": {},
   "outputs": [
    {
     "data": {
      "text/plain": [
       "<Axes: >"
      ]
     },
     "execution_count": 23,
     "metadata": {},
     "output_type": "execute_result"
    },
    {
     "data": {
      "image/png": "[encoded data removed]",
      "text/plain": [
       "<Figure size 640x480 with 1 Axes>"
      ]
     },
     "metadata": {},
     "output_type": "display_data"
    }
   ],
   "source": [
    "df.loc[df['   TG'] != -9999]['   TG'].hist()"
   ]
  },
  {
   "cell_type": "markdown",
   "id": "a5fa2d1c-f42b-42b3-9253-a61d50ed7566",
   "metadata": {},
   "source": [
    "# Show certain cells"
   ]
  },
  {
   "cell_type": "code",
   "execution_count": 24,
   "id": "43140f3a-99e4-4a60-b16c-e284ded4fe05",
   "metadata": {},
   "outputs": [
    {
     "data": {
      "text/html": [
       "<div>\n",
       "<style scoped>\n",
       "    .dataframe tbody tr th:only-of-type {\n",
       "        vertical-align: middle;\n",
       "    }\n",
       "\n",
       "    .dataframe tbody tr th {\n",
       "        vertical-align: top;\n",
       "    }\n",
       "\n",
       "    .dataframe thead th {\n",
       "        text-align: right;\n",
       "    }\n",
       "</style>\n",
       "<table border=\"1\" class=\"dataframe\">\n",
       "  <thead>\n",
       "    <tr style=\"text-align: right;\">\n",
       "      <th></th>\n",
       "      <th>STAID</th>\n",
       "      <th>SOUID</th>\n",
       "      <th>DATE</th>\n",
       "      <th>TG</th>\n",
       "      <th>Q_TG</th>\n",
       "    </tr>\n",
       "  </thead>\n",
       "  <tbody>\n",
       "    <tr>\n",
       "      <th>0</th>\n",
       "      <td>1</td>\n",
       "      <td>35381</td>\n",
       "      <td>1860-01-01</td>\n",
       "      <td>21</td>\n",
       "      <td>0</td>\n",
       "    </tr>\n",
       "    <tr>\n",
       "      <th>1</th>\n",
       "      <td>1</td>\n",
       "      <td>35381</td>\n",
       "      <td>1860-01-02</td>\n",
       "      <td>46</td>\n",
       "      <td>0</td>\n",
       "    </tr>\n",
       "    <tr>\n",
       "      <th>2</th>\n",
       "      <td>1</td>\n",
       "      <td>35381</td>\n",
       "      <td>1860-01-03</td>\n",
       "      <td>31</td>\n",
       "      <td>0</td>\n",
       "    </tr>\n",
       "    <tr>\n",
       "      <th>3</th>\n",
       "      <td>1</td>\n",
       "      <td>35381</td>\n",
       "      <td>1860-01-04</td>\n",
       "      <td>37</td>\n",
       "      <td>0</td>\n",
       "    </tr>\n",
       "    <tr>\n",
       "      <th>4</th>\n",
       "      <td>1</td>\n",
       "      <td>35381</td>\n",
       "      <td>1860-01-05</td>\n",
       "      <td>31</td>\n",
       "      <td>0</td>\n",
       "    </tr>\n",
       "    <tr>\n",
       "      <th>...</th>\n",
       "      <td>...</td>\n",
       "      <td>...</td>\n",
       "      <td>...</td>\n",
       "      <td>...</td>\n",
       "      <td>...</td>\n",
       "    </tr>\n",
       "    <tr>\n",
       "      <th>59316</th>\n",
       "      <td>1</td>\n",
       "      <td>35381</td>\n",
       "      <td>2022-05-27</td>\n",
       "      <td>-9999</td>\n",
       "      <td>9</td>\n",
       "    </tr>\n",
       "    <tr>\n",
       "      <th>59317</th>\n",
       "      <td>1</td>\n",
       "      <td>35381</td>\n",
       "      <td>2022-05-28</td>\n",
       "      <td>-9999</td>\n",
       "      <td>9</td>\n",
       "    </tr>\n",
       "    <tr>\n",
       "      <th>59318</th>\n",
       "      <td>1</td>\n",
       "      <td>35381</td>\n",
       "      <td>2022-05-29</td>\n",
       "      <td>-9999</td>\n",
       "      <td>9</td>\n",
       "    </tr>\n",
       "    <tr>\n",
       "      <th>59319</th>\n",
       "      <td>1</td>\n",
       "      <td>35381</td>\n",
       "      <td>2022-05-30</td>\n",
       "      <td>-9999</td>\n",
       "      <td>9</td>\n",
       "    </tr>\n",
       "    <tr>\n",
       "      <th>59320</th>\n",
       "      <td>1</td>\n",
       "      <td>35381</td>\n",
       "      <td>2022-05-31</td>\n",
       "      <td>-9999</td>\n",
       "      <td>9</td>\n",
       "    </tr>\n",
       "  </tbody>\n",
       "</table>\n",
       "<p>59321 rows × 5 columns</p>\n",
       "</div>"
      ],
      "text/plain": [
       "       STAID   SOUID       DATE     TG   Q_TG\n",
       "0          1   35381 1860-01-01     21      0\n",
       "1          1   35381 1860-01-02     46      0\n",
       "2          1   35381 1860-01-03     31      0\n",
       "3          1   35381 1860-01-04     37      0\n",
       "4          1   35381 1860-01-05     31      0\n",
       "...      ...     ...        ...    ...    ...\n",
       "59316      1   35381 2022-05-27  -9999      9\n",
       "59317      1   35381 2022-05-28  -9999      9\n",
       "59318      1   35381 2022-05-29  -9999      9\n",
       "59319      1   35381 2022-05-30  -9999      9\n",
       "59320      1   35381 2022-05-31  -9999      9\n",
       "\n",
       "[59321 rows x 5 columns]"
      ]
     },
     "execution_count": 24,
     "metadata": {},
     "output_type": "execute_result"
    }
   ],
   "source": [
    "df"
   ]
  },
  {
   "cell_type": "code",
   "execution_count": 27,
   "id": "3d7f7b82-d60f-4fea-b058-ecfa4777892d",
   "metadata": {},
   "outputs": [
    {
     "data": {
      "text/plain": [
       "3.1"
      ]
     },
     "execution_count": 27,
     "metadata": {},
     "output_type": "execute_result"
    }
   ],
   "source": [
    "df.loc[df[\"    DATE\"] == \"1860-01-05\"]['   TG'].squeeze() / 10"
   ]
  },
  {
   "cell_type": "code",
   "execution_count": 33,
   "id": "738483e0-38f7-405b-9356-11961baa4f40",
   "metadata": {},
   "outputs": [
    {
     "data": {
      "text/plain": [
       "Timestamp('1868-08-16 00:00:00')"
      ]
     },
     "execution_count": 33,
     "metadata": {},
     "output_type": "execute_result"
    }
   ],
   "source": [
    "df.loc[df['   TG'] == df['   TG'].max()][\"    DATE\"].squeeze()"
   ]
  },
  {
   "cell_type": "code",
   "execution_count": 35,
   "id": "6c5a5dae-6580-4b39-b14d-22cc80b0af78",
   "metadata": {},
   "outputs": [
    {
     "data": {
      "text/plain": [
       "37"
      ]
     },
     "execution_count": 35,
     "metadata": {},
     "output_type": "execute_result"
    }
   ],
   "source": [
    "df.loc[3, '   TG']"
   ]
  },
  {
   "cell_type": "markdown",
   "id": "a6b3296f-a844-43ef-882f-e32b10ce36a1",
   "metadata": {},
   "source": [
    "# Calculate a new column out of an existing one"
   ]
  },
  {
   "cell_type": "code",
   "execution_count": 44,
   "id": "7a3466b0-a57f-42c4-8b8b-905453c58054",
   "metadata": {},
   "outputs": [],
   "source": [
    "import numpy as np\n",
    "df[\"TG0\"] = df['   TG'].mask(df['   TG']==-9999, np.nan)"
   ]
  },
  {
   "cell_type": "code",
   "execution_count": 45,
   "id": "e05464af-5d2c-4f70-8d2c-b10b041f4fed",
   "metadata": {},
   "outputs": [],
   "source": [
    "df[\"TG\"] = df['   TG'] / 10"
   ]
  },
  {
   "cell_type": "code",
   "execution_count": 46,
   "id": "57ad390c-91b2-432c-b212-2729f0003e36",
   "metadata": {},
   "outputs": [
    {
     "data": {
      "text/html": [
       "<div>\n",
       "<style scoped>\n",
       "    .dataframe tbody tr th:only-of-type {\n",
       "        vertical-align: middle;\n",
       "    }\n",
       "\n",
       "    .dataframe tbody tr th {\n",
       "        vertical-align: top;\n",
       "    }\n",
       "\n",
       "    .dataframe thead th {\n",
       "        text-align: right;\n",
       "    }\n",
       "</style>\n",
       "<table border=\"1\" class=\"dataframe\">\n",
       "  <thead>\n",
       "    <tr style=\"text-align: right;\">\n",
       "      <th></th>\n",
       "      <th>STAID</th>\n",
       "      <th>SOUID</th>\n",
       "      <th>DATE</th>\n",
       "      <th>TG</th>\n",
       "      <th>Q_TG</th>\n",
       "      <th>TG</th>\n",
       "      <th>Fahrenheit</th>\n",
       "      <th>TG0</th>\n",
       "    </tr>\n",
       "  </thead>\n",
       "  <tbody>\n",
       "    <tr>\n",
       "      <th>0</th>\n",
       "      <td>1</td>\n",
       "      <td>35381</td>\n",
       "      <td>1860-01-01</td>\n",
       "      <td>21</td>\n",
       "      <td>0</td>\n",
       "      <td>2.1</td>\n",
       "      <td>35.78</td>\n",
       "      <td>21.0</td>\n",
       "    </tr>\n",
       "    <tr>\n",
       "      <th>1</th>\n",
       "      <td>1</td>\n",
       "      <td>35381</td>\n",
       "      <td>1860-01-02</td>\n",
       "      <td>46</td>\n",
       "      <td>0</td>\n",
       "      <td>4.6</td>\n",
       "      <td>40.28</td>\n",
       "      <td>46.0</td>\n",
       "    </tr>\n",
       "    <tr>\n",
       "      <th>2</th>\n",
       "      <td>1</td>\n",
       "      <td>35381</td>\n",
       "      <td>1860-01-03</td>\n",
       "      <td>31</td>\n",
       "      <td>0</td>\n",
       "      <td>3.1</td>\n",
       "      <td>37.58</td>\n",
       "      <td>31.0</td>\n",
       "    </tr>\n",
       "    <tr>\n",
       "      <th>3</th>\n",
       "      <td>1</td>\n",
       "      <td>35381</td>\n",
       "      <td>1860-01-04</td>\n",
       "      <td>37</td>\n",
       "      <td>0</td>\n",
       "      <td>3.7</td>\n",
       "      <td>38.66</td>\n",
       "      <td>37.0</td>\n",
       "    </tr>\n",
       "    <tr>\n",
       "      <th>4</th>\n",
       "      <td>1</td>\n",
       "      <td>35381</td>\n",
       "      <td>1860-01-05</td>\n",
       "      <td>31</td>\n",
       "      <td>0</td>\n",
       "      <td>3.1</td>\n",
       "      <td>37.58</td>\n",
       "      <td>31.0</td>\n",
       "    </tr>\n",
       "    <tr>\n",
       "      <th>...</th>\n",
       "      <td>...</td>\n",
       "      <td>...</td>\n",
       "      <td>...</td>\n",
       "      <td>...</td>\n",
       "      <td>...</td>\n",
       "      <td>...</td>\n",
       "      <td>...</td>\n",
       "      <td>...</td>\n",
       "    </tr>\n",
       "    <tr>\n",
       "      <th>59316</th>\n",
       "      <td>1</td>\n",
       "      <td>35381</td>\n",
       "      <td>2022-05-27</td>\n",
       "      <td>-9999</td>\n",
       "      <td>9</td>\n",
       "      <td>-999.9</td>\n",
       "      <td>-1767.82</td>\n",
       "      <td>NaN</td>\n",
       "    </tr>\n",
       "    <tr>\n",
       "      <th>59317</th>\n",
       "      <td>1</td>\n",
       "      <td>35381</td>\n",
       "      <td>2022-05-28</td>\n",
       "      <td>-9999</td>\n",
       "      <td>9</td>\n",
       "      <td>-999.9</td>\n",
       "      <td>-1767.82</td>\n",
       "      <td>NaN</td>\n",
       "    </tr>\n",
       "    <tr>\n",
       "      <th>59318</th>\n",
       "      <td>1</td>\n",
       "      <td>35381</td>\n",
       "      <td>2022-05-29</td>\n",
       "      <td>-9999</td>\n",
       "      <td>9</td>\n",
       "      <td>-999.9</td>\n",
       "      <td>-1767.82</td>\n",
       "      <td>NaN</td>\n",
       "    </tr>\n",
       "    <tr>\n",
       "      <th>59319</th>\n",
       "      <td>1</td>\n",
       "      <td>35381</td>\n",
       "      <td>2022-05-30</td>\n",
       "      <td>-9999</td>\n",
       "      <td>9</td>\n",
       "      <td>-999.9</td>\n",
       "      <td>-1767.82</td>\n",
       "      <td>NaN</td>\n",
       "    </tr>\n",
       "    <tr>\n",
       "      <th>59320</th>\n",
       "      <td>1</td>\n",
       "      <td>35381</td>\n",
       "      <td>2022-05-31</td>\n",
       "      <td>-9999</td>\n",
       "      <td>9</td>\n",
       "      <td>-999.9</td>\n",
       "      <td>-1767.82</td>\n",
       "      <td>NaN</td>\n",
       "    </tr>\n",
       "  </tbody>\n",
       "</table>\n",
       "<p>59321 rows × 8 columns</p>\n",
       "</div>"
      ],
      "text/plain": [
       "       STAID   SOUID       DATE     TG   Q_TG     TG  Fahrenheit   TG0\n",
       "0          1   35381 1860-01-01     21      0    2.1       35.78  21.0\n",
       "1          1   35381 1860-01-02     46      0    4.6       40.28  46.0\n",
       "2          1   35381 1860-01-03     31      0    3.1       37.58  31.0\n",
       "3          1   35381 1860-01-04     37      0    3.7       38.66  37.0\n",
       "4          1   35381 1860-01-05     31      0    3.1       37.58  31.0\n",
       "...      ...     ...        ...    ...    ...    ...         ...   ...\n",
       "59316      1   35381 2022-05-27  -9999      9 -999.9    -1767.82   NaN\n",
       "59317      1   35381 2022-05-28  -9999      9 -999.9    -1767.82   NaN\n",
       "59318      1   35381 2022-05-29  -9999      9 -999.9    -1767.82   NaN\n",
       "59319      1   35381 2022-05-30  -9999      9 -999.9    -1767.82   NaN\n",
       "59320      1   35381 2022-05-31  -9999      9 -999.9    -1767.82   NaN\n",
       "\n",
       "[59321 rows x 8 columns]"
      ]
     },
     "execution_count": 46,
     "metadata": {},
     "output_type": "execute_result"
    }
   ],
   "source": [
    "df"
   ]
  },
  {
   "cell_type": "code",
   "execution_count": 59,
   "id": "5b10dea4-8e82-4442-85c7-3e48187268f0",
   "metadata": {},
   "outputs": [],
   "source": [
    "df[\"Fahrenheit\"] = df[\"TG0\"] / 10 * (9/5) + 32"
   ]
  },
  {
   "cell_type": "code",
   "execution_count": 60,
   "id": "5f541b7c-561a-4eba-8d27-0f870d59d787",
   "metadata": {},
   "outputs": [
    {
     "data": {
      "text/plain": [
       "<Axes: >"
      ]
     },
     "execution_count": 60,
     "metadata": {},
     "output_type": "execute_result"
    },
    {
     "data": {
      "image/png": "[encoded data removed]",
      "text/plain": [
       "<Figure size 640x480 with 1 Axes>"
      ]
     },
     "metadata": {},
     "output_type": "display_data"
    }
   ],
   "source": [
    "df[\"Fahrenheit\"].hist()"
   ]
  },
  {
   "cell_type": "markdown",
   "id": "4449bbf5-3c18-40d6-a2d4-70bcdf3568cc",
   "metadata": {},
   "source": [
    "# Plotting"
   ]
  },
  {
   "cell_type": "code",
   "execution_count": 78,
   "id": "b2948a49-0557-446b-a882-8f0f57c8699b",
   "metadata": {},
   "outputs": [
    {
     "data": {
      "text/plain": [
       "<Axes: xlabel='    DATE'>"
      ]
     },
     "execution_count": 78,
     "metadata": {},
     "output_type": "execute_result"
    },
    {
     "data": {
      "image/png": "[encoded data removed]",
      "text/plain": [
       "<Figure size 1000x300 with 1 Axes>"
      ]
     },
     "metadata": {},
     "output_type": "display_data"
    }
   ],
   "source": [
    "df[10:100].plot(x=\"    DATE\", y=\"Fahrenheit\", figsize=(10, 3))"
   ]
  },
  {
   "cell_type": "code",
   "execution_count": 40,
   "id": "a40fa370-770a-43af-ac32-ebae0015c314",
   "metadata": {},
   "outputs": [],
   "source": [
    "df[\"Fahrenheit\"] = df[\"TG\"] * (9/5) + 32"
   ]
  },
  {
   "cell_type": "code",
   "execution_count": 5,
   "id": "98e2aad2-73ac-4415-85b4-cda0567b8dae",
   "metadata": {},
   "outputs": [],
   "source": [
    "stations = pd.read_csv(\"data_small/stations.txt\", skiprows=17)"
   ]
  },
  {
   "cell_type": "code",
   "execution_count": 14,
   "id": "c2ee19c0-1b7c-4da1-927d-fe0f1efe64af",
   "metadata": {},
   "outputs": [
    {
     "data": {
      "text/plain": [
       "Index(['STAID', 'STANAME                                 ', 'CN', '      LAT',\n",
       "       '       LON', 'HGHT'],\n",
       "      dtype='object')"
      ]
     },
     "execution_count": 14,
     "metadata": {},
     "output_type": "execute_result"
    }
   ],
   "source": [
    "stations.columns"
   ]
  },
  {
   "cell_type": "code",
   "execution_count": 18,
   "id": "d6b029ae-39ed-4d55-a1ac-e930e3ee11b3",
   "metadata": {},
   "outputs": [
    {
     "data": {
      "text/plain": [
       "0     VAEXJOE                                 \n",
       "1     FALUN                                   \n",
       "2     STENSELE                                \n",
       "3     LINKOEPING                              \n",
       "4     LINKOEPING-MALMSLAETT                   \n",
       "                        ...                   \n",
       "95    VY'TEGRA                                \n",
       "96    VOLOGDA                                 \n",
       "97    HAMMER ODDE FYR                         \n",
       "98    VESTERVIG                               \n",
       "99    NORDBY (FANO)                           \n",
       "Name: STANAME                                 , Length: 100, dtype: object"
      ]
     },
     "execution_count": 18,
     "metadata": {},
     "output_type": "execute_result"
    }
   ],
   "source": [
    "stations[:100][\"STANAME                                 \"]"
   ]
  },
  {
   "cell_type": "code",
   "execution_count": 25,
   "id": "b35a70d4-be61-409d-bb1f-21ea3a6cb7b9",
   "metadata": {},
   "outputs": [],
   "source": [
    "stations_list = stations[:100][[\"STAID\", \"STANAME                                 \"]]"
   ]
  },
  {
   "cell_type": "code",
   "execution_count": 45,
   "id": "587ed488-3e4b-4b2b-9603-6dd432ad1011",
   "metadata": {},
   "outputs": [],
   "source": [
    "station_id = stations_list.loc[stations_list[\"STAID\"] == 5][\"STAID\"]"
   ]
  },
  {
   "cell_type": "code",
   "execution_count": 51,
   "id": "fd069a38-75a3-4475-81a8-2327a46ba2b3",
   "metadata": {},
   "outputs": [
    {
     "data": {
      "text/plain": [
       "'5'"
      ]
     },
     "execution_count": 51,
     "metadata": {},
     "output_type": "execute_result"
    }
   ],
   "source": [
    "str(station_id.squeeze())"
   ]
  },
  {
   "cell_type": "code",
   "execution_count": null,
   "id": "888bd7fb-a8ed-4979-83df-29866b43508f",
   "metadata": {},
   "outputs": [],
   "source": []
  }
 ],
 "metadata": {
  "kernelspec": {
   "display_name": "Python 3 (ipykernel)",
   "language": "python",
   "name": "python3"
  },
  "language_info": {
   "codemirror_mode": {
    "name": "ipython",
    "version": 3
   },
   "file_extension": ".py",
   "mimetype": "text/x-python",
   "name": "python",
   "nbconvert_exporter": "python",
   "pygments_lexer": "ipython3",
   "version": "3.11.5"
  }
 },
 "nbformat": 4,
 "nbformat_minor": 5
}
